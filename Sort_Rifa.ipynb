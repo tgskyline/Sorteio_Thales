{
 "cells": [
  {
   "attachments": {},
   "cell_type": "markdown",
   "metadata": {},
   "source": [
    "# Rifa do Thales\n",
    "\n",
    "<img src=\"Imagem Rifa Thales_New.jpg\">"
   ]
  },
  {
   "cell_type": "code",
   "execution_count": null,
   "metadata": {},
   "outputs": [],
   "source": [
    "#Agredimentos há todos os participantes\n",
    "\n",
    "import pandas as pd\n",
    "\n",
    "PartCSV = pd.read_csv('Lista_Participantes.csv')\n",
    "\n",
    "PartCSV"
   ]
  },
  {
   "cell_type": "code",
   "execution_count": null,
   "metadata": {},
   "outputs": [],
   "source": [
    "#Total de participantes\n",
    "\n",
    "NumPart = len(PartCSV)\n",
    "\n",
    "print(f\"\\n\"\"Número de Participantes \" + str(NumPart))"
   ]
  },
  {
   "cell_type": "code",
   "execution_count": null,
   "metadata": {},
   "outputs": [],
   "source": [
    "#Transforma o CSV em um DataFrame(matriz)\n",
    "\n",
    "PartDataFrame = pd.DataFrame(PartCSV) \n",
    "\n",
    "PartDataFrame"
   ]
  },
  {
   "cell_type": "code",
   "execution_count": null,
   "metadata": {},
   "outputs": [],
   "source": [
    "#\n",
    "\n",
    "PartSort = PartDataFrame.sample()\n",
    "\n",
    "print(f\"\\n\"\"Parabéns ao ganhador(a)!!! \" + f\"\\n\" + str(PartSort))"
   ]
  }
 ],
 "metadata": {
  "kernelspec": {
   "display_name": "Python 3",
   "language": "python",
   "name": "python3"
  },
  "language_info": {
   "codemirror_mode": {
    "name": "ipython",
    "version": 3
   },
   "file_extension": ".py",
   "mimetype": "text/x-python",
   "name": "python",
   "nbconvert_exporter": "python",
   "pygments_lexer": "ipython3",
   "version": "3.10.8"
  },
  "orig_nbformat": 4,
  "vscode": {
   "interpreter": {
    "hash": "680d35b0aef77992d74832a7a51d43a4d03137e12acf98d4dfefde7843dd0cba"
   }
  }
 },
 "nbformat": 4,
 "nbformat_minor": 2
}
